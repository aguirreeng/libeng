{
 "cells": [
  {
   "cell_type": "markdown",
   "metadata": {},
   "source": [
    "# Math module"
   ]
  },
  {
   "cell_type": "markdown",
   "metadata": {},
   "source": [
    "Documentation to the `math` module of the `libeng` library."
   ]
  },
  {
   "cell_type": "markdown",
   "metadata": {},
   "source": [
    "## Vectors, Quaternions and Rotation Matrices"
   ]
  },
  {
   "cell_type": "markdown",
   "metadata": {},
   "source": [
    "A quaternion can be calculated from a rotation vector and an angle by:\n",
    "\n",
    "$$\\mathbf{q} = \\cos \\left ( {\\frac{\\theta}{2}} \\right ) + u_{x} \\sin \\left ( {\\frac{\\theta}{2}} \\right ) \\mathbf{i} + u_{y} \\sin \\left ( {\\frac{\\theta}{2}} \\right ) \\mathbf{j} + u_{z} \\sin \\left ( {\\frac{\\theta}{2}} \\right ) \\mathbf{k}$$\n"
   ]
  },
  {
   "cell_type": "markdown",
   "metadata": {},
   "source": [
    "For a quaternion given by:\n",
    "\n",
    "$$\\mathbf{q} = q_{r} + q_{i} \\mathbf{i} + q_{j} \\mathbf{j} + q_{k} \\mathbf{k}$$\n",
    "\n",
    "The equivalent rotation matrix is calculated from:\n",
    "\n",
    "$$ \\mathbf{R} = \n",
    "\\begin{bmatrix}\n",
    "1 - 2 q_{j}^{2} - 2 q_{k}^{2} & 2 \\left ( {q_{i} q_{j} - q_{k} q_{r}} \\right )  & 2 \\left ( {q_{i} q_{k} + q_{j} q_{r}} \\right )\\\\ \n",
    "2 \\left ( {q_{i} q_{j} + q_{k} q_{r}} \\right ) & 1 - 2 q_{i}^{2} - 2 q_{k}^{2}  & 2 \\left ( {q_{j} q_{k} - q_{i} q_{r}} \\right )\\\\ \n",
    "2 \\left ( {q_{i} q_{k} - q_{j} q_{r}} \\right ) & 2 \\left ( {q_{j} q_{k} + q_{i} q_{r}} \\right ) & 1 - 2 q_{i}^{2} - 2 q_{j}^{2}\n",
    "\\end{bmatrix}\n",
    "$$\n",
    "\n",
    "Using the definition of the quaternion based on the rotation vector we have:\n",
    "\n",
    "$$ \\mathbf{R} = \n",
    "\\begin{bmatrix}\n",
    "1 - 2 {\\left [ {u_{y} \\sin \\left ( {\\frac{\\theta}{2}} \\right )} \\right ]}^{2} - 2 {\\left [ {u_{z} \\sin \\left ( {\\frac{\\theta}{2}} \\right )} \\right ]}^{2} &\n",
    "2 \\left ( {u_{x} \\sin \\left ( {\\frac{\\theta}{2}} \\right ) u_{y} \\sin \\left ( {\\frac{\\theta}{2}} \\right ) - u_{z} \\sin \\left ( {\\frac{\\theta}{2}} \\right ) \\cos \\left ( {\\frac{\\theta}{2}} \\right )} \\right ) & \n",
    "2 \\left ( {u_{x} \\sin \\left ( {\\frac{\\theta}{2}} \\right ) u_{z} \\sin \\left ( {\\frac{\\theta}{2}} \\right ) + u_{y} \\sin \\left ( {\\frac{\\theta}{2}} \\right ) \\cos \\left ( {\\frac{\\theta}{2}} \\right )} \\right ) \\\\ \n",
    "2 \\left ( {u_{x} \\sin \\left ( {\\frac{\\theta}{2}} \\right ) u_{y} \\sin \\left ( {\\frac{\\theta}{2}} \\right ) + u_{z} \\sin \\left ( {\\frac{\\theta}{2}} \\right ) \\cos \\left ( {\\frac{\\theta}{2}} \\right )} \\right ) & \n",
    "1 - 2 {\\left [ {u_{x} \\sin \\left ( {\\frac{\\theta}{2}} \\right )} \\right ]}^{2} - 2 {\\left [ {u_{z} \\sin \\left ( {\\frac{\\theta}{2}} \\right )} \\right ]}^{2}  & \n",
    "2 \\left ( {u_{y} \\sin \\left ( {\\frac{\\theta}{2}} \\right ) u_{z} \\sin \\left ( {\\frac{\\theta}{2}} \\right ) - u_{x} \\sin \\left ( {\\frac{\\theta}{2}} \\right ) \\cos \\left ( {\\frac{\\theta}{2}} \\right )} \\right ) \\\\ \n",
    "2 \\left ( {u_{x} \\sin \\left ( {\\frac{\\theta}{2}} \\right ) u_{z} \\sin \\left ( {\\frac{\\theta}{2}} \\right ) - u_{y} \\sin \\left ( {\\frac{\\theta}{2}} \\right ) \\cos \\left ( {\\frac{\\theta}{2}} \\right )} \\right ) & \n",
    "2 \\left ( {u_{y} \\sin \\left ( {\\frac{\\theta}{2}} \\right ) u_{z} \\sin \\left ( {\\frac{\\theta}{2}} \\right ) + u_{x} \\sin \\left ( {\\frac{\\theta}{2}} \\right ) \\cos \\left ( {\\frac{\\theta}{2}} \\right )} \\right ) & \n",
    "1 - 2 {\\left [ {u_{x} \\sin \\left ( {\\frac{\\theta}{2}} \\right )} \\right]}^{2} - 2 {\\left [ {u_{y} \\sin \\left ( {\\frac{\\theta}{2}} \\right )} \\right ]}^{2}\n",
    "\\end{bmatrix}\n",
    "$$\n",
    "\n"
   ]
  },
  {
   "cell_type": "markdown",
   "metadata": {},
   "source": [
    "Using trigonometric identities and the fact that the rotation vector in unitary, this matrix can be re-written as:\n",
    "\n",
    "$$ \\mathbf{R} = \n",
    "\\begin{bmatrix}\n",
    "\\cos \\left ( {\\theta} \\right ) + u_{x}^{2} \\left [ {1 - \\cos \\left ( {\\theta} \\right )} \\right ] &\n",
    "u_{x} u_{y} \\left [ {1 - \\cos \\left( {\\theta} \\right )} \\right ] - u_{z} \\sin \\left ( {\\theta} \\right ) & \n",
    "u_{x} u_{z} \\left [ {1 - \\cos \\left( {\\theta} \\right )} \\right ] + u_{y} \\sin \\left ( {\\theta} \\right ) \\\\ \n",
    "u_{x} u_{y} \\left [ {1 - \\cos \\left( {\\theta} \\right )} \\right ] + u_{z} \\sin \\left ( {\\theta} \\right ) & \n",
    "\\cos \\left ( {\\theta} \\right ) + u_{y}^{2} \\left [ {1 - \\cos \\left ( {\\theta} \\right )} \\right ]  & \n",
    "u_{y} u_{z} \\left [ {1 - \\cos \\left( {\\theta} \\right )} \\right ] - u_{x} \\sin \\left ( {\\theta} \\right ) \\\\ \n",
    "u_{x} u_{z} \\left [ {1 - \\cos \\left( {\\theta} \\right )} \\right ] - u_{y} \\sin \\left ( {\\theta} \\right ) & \n",
    "u_{y} u_{z} \\left [ {1 - \\cos \\left( {\\theta} \\right )} \\right ] + u_{x} \\sin \\left ( {\\theta} \\right ) & \n",
    "\\cos \\left ( {\\theta} \\right ) + u_{z}^{2} \\left [ {1 - \\cos \\left ( {\\theta} \\right )} \\right ]\n",
    "\\end{bmatrix}\n",
    "$$"
   ]
  },
  {
   "cell_type": "markdown",
   "metadata": {},
   "source": [
    "To obtain the original rotation angle and rotation vector based on the rotation matriz, one can use:\n",
    "\n",
    "$$\n",
    "\\theta = \\arcsin \\left [ {\\frac{\\sqrt{{\\left ( {R_{2,1} - R_{1,2}} \\right )}^{2} + {\\left ( {R_{0,2} - R_{2,0}} \\right )}^{2} + {\\left ( {R_{1,0} - R_{0,1}} \\right )}^{2}}}{2}} \\right]\n",
    "$$ \n",
    "\n",
    "$$\n",
    "\\mathbf{r} = \\frac{1}{2 \\sin \\left ( {\\theta} \\right )} \\left [ {\\left ( {R_{2,1} - R_{1,2}} \\right ) \\mathbf{i} + \\left ( {R_{0,2} - R_{2,0}} \\right ) \\mathbf{j} + \\left ( {R_{1,0} - R_{0,1}} \\right ) \\mathbf{k}} \\right ]\n",
    "$$"
   ]
  }
 ],
 "metadata": {
  "kernelspec": {
   "display_name": "Python 3",
   "language": "python",
   "name": "python3"
  },
  "language_info": {
   "codemirror_mode": {
    "name": "ipython",
    "version": 3
   },
   "file_extension": ".py",
   "mimetype": "text/x-python",
   "name": "python",
   "nbconvert_exporter": "python",
   "pygments_lexer": "ipython3",
   "version": "3.6.0"
  }
 },
 "nbformat": 4,
 "nbformat_minor": 2
}
